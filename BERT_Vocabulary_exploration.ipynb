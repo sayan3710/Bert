{
  "nbformat": 4,
  "nbformat_minor": 0,
  "metadata": {
    "colab": {
      "name": "BERT Vocabulary exploration",
      "provenance": []
    },
    "kernelspec": {
      "name": "python3",
      "display_name": "Python 3"
    },
    "widgets": {
      "application/vnd.jupyter.widget-state+json": {
        "bf7e30e43ff24819b83a9d70b3ab46a7": {
          "model_module": "@jupyter-widgets/controls",
          "model_name": "HBoxModel",
          "state": {
            "_view_name": "HBoxView",
            "_dom_classes": [],
            "_model_name": "HBoxModel",
            "_view_module": "@jupyter-widgets/controls",
            "_model_module_version": "1.5.0",
            "_view_count": null,
            "_view_module_version": "1.5.0",
            "box_style": "",
            "layout": "IPY_MODEL_9c5049159fd44015b1811a5ed09179db",
            "_model_module": "@jupyter-widgets/controls",
            "children": [
              "IPY_MODEL_7ee7a1f5c7184a8b84cf49a2d104297c",
              "IPY_MODEL_b7a9b7cd7ddc451c9ea089af228e4e97"
            ]
          }
        },
        "9c5049159fd44015b1811a5ed09179db": {
          "model_module": "@jupyter-widgets/base",
          "model_name": "LayoutModel",
          "state": {
            "_view_name": "LayoutView",
            "grid_template_rows": null,
            "right": null,
            "justify_content": null,
            "_view_module": "@jupyter-widgets/base",
            "overflow": null,
            "_model_module_version": "1.2.0",
            "_view_count": null,
            "flex_flow": null,
            "width": null,
            "min_width": null,
            "border": null,
            "align_items": null,
            "bottom": null,
            "_model_module": "@jupyter-widgets/base",
            "top": null,
            "grid_column": null,
            "overflow_y": null,
            "overflow_x": null,
            "grid_auto_flow": null,
            "grid_area": null,
            "grid_template_columns": null,
            "flex": null,
            "_model_name": "LayoutModel",
            "justify_items": null,
            "grid_row": null,
            "max_height": null,
            "align_content": null,
            "visibility": null,
            "align_self": null,
            "height": null,
            "min_height": null,
            "padding": null,
            "grid_auto_rows": null,
            "grid_gap": null,
            "max_width": null,
            "order": null,
            "_view_module_version": "1.2.0",
            "grid_template_areas": null,
            "object_position": null,
            "object_fit": null,
            "grid_auto_columns": null,
            "margin": null,
            "display": null,
            "left": null
          }
        },
        "7ee7a1f5c7184a8b84cf49a2d104297c": {
          "model_module": "@jupyter-widgets/controls",
          "model_name": "IntProgressModel",
          "state": {
            "_view_name": "ProgressView",
            "style": "IPY_MODEL_f9b62815b661424d82231b63bab5e24f",
            "_dom_classes": [],
            "description": "Downloading",
            "_model_name": "IntProgressModel",
            "bar_style": "success",
            "max": 231508,
            "_view_module": "@jupyter-widgets/controls",
            "_model_module_version": "1.5.0",
            "value": 231508,
            "_view_count": null,
            "_view_module_version": "1.5.0",
            "orientation": "horizontal",
            "min": 0,
            "description_tooltip": null,
            "_model_module": "@jupyter-widgets/controls",
            "layout": "IPY_MODEL_97d93fa8acfa477c8b9632bffaac2e81"
          }
        },
        "b7a9b7cd7ddc451c9ea089af228e4e97": {
          "model_module": "@jupyter-widgets/controls",
          "model_name": "HTMLModel",
          "state": {
            "_view_name": "HTMLView",
            "style": "IPY_MODEL_037a42f759904654a7e6d038036564d0",
            "_dom_classes": [],
            "description": "",
            "_model_name": "HTMLModel",
            "placeholder": "​",
            "_view_module": "@jupyter-widgets/controls",
            "_model_module_version": "1.5.0",
            "value": "100% 232k/232k [00:00&lt;00:00, 3.96MB/s]",
            "_view_count": null,
            "_view_module_version": "1.5.0",
            "description_tooltip": null,
            "_model_module": "@jupyter-widgets/controls",
            "layout": "IPY_MODEL_ef94262d4eed4b09b2e81a741aecf9f2"
          }
        },
        "f9b62815b661424d82231b63bab5e24f": {
          "model_module": "@jupyter-widgets/controls",
          "model_name": "ProgressStyleModel",
          "state": {
            "_view_name": "StyleView",
            "_model_name": "ProgressStyleModel",
            "description_width": "initial",
            "_view_module": "@jupyter-widgets/base",
            "_model_module_version": "1.5.0",
            "_view_count": null,
            "_view_module_version": "1.2.0",
            "bar_color": null,
            "_model_module": "@jupyter-widgets/controls"
          }
        },
        "97d93fa8acfa477c8b9632bffaac2e81": {
          "model_module": "@jupyter-widgets/base",
          "model_name": "LayoutModel",
          "state": {
            "_view_name": "LayoutView",
            "grid_template_rows": null,
            "right": null,
            "justify_content": null,
            "_view_module": "@jupyter-widgets/base",
            "overflow": null,
            "_model_module_version": "1.2.0",
            "_view_count": null,
            "flex_flow": null,
            "width": null,
            "min_width": null,
            "border": null,
            "align_items": null,
            "bottom": null,
            "_model_module": "@jupyter-widgets/base",
            "top": null,
            "grid_column": null,
            "overflow_y": null,
            "overflow_x": null,
            "grid_auto_flow": null,
            "grid_area": null,
            "grid_template_columns": null,
            "flex": null,
            "_model_name": "LayoutModel",
            "justify_items": null,
            "grid_row": null,
            "max_height": null,
            "align_content": null,
            "visibility": null,
            "align_self": null,
            "height": null,
            "min_height": null,
            "padding": null,
            "grid_auto_rows": null,
            "grid_gap": null,
            "max_width": null,
            "order": null,
            "_view_module_version": "1.2.0",
            "grid_template_areas": null,
            "object_position": null,
            "object_fit": null,
            "grid_auto_columns": null,
            "margin": null,
            "display": null,
            "left": null
          }
        },
        "037a42f759904654a7e6d038036564d0": {
          "model_module": "@jupyter-widgets/controls",
          "model_name": "DescriptionStyleModel",
          "state": {
            "_view_name": "StyleView",
            "_model_name": "DescriptionStyleModel",
            "description_width": "",
            "_view_module": "@jupyter-widgets/base",
            "_model_module_version": "1.5.0",
            "_view_count": null,
            "_view_module_version": "1.2.0",
            "_model_module": "@jupyter-widgets/controls"
          }
        },
        "ef94262d4eed4b09b2e81a741aecf9f2": {
          "model_module": "@jupyter-widgets/base",
          "model_name": "LayoutModel",
          "state": {
            "_view_name": "LayoutView",
            "grid_template_rows": null,
            "right": null,
            "justify_content": null,
            "_view_module": "@jupyter-widgets/base",
            "overflow": null,
            "_model_module_version": "1.2.0",
            "_view_count": null,
            "flex_flow": null,
            "width": null,
            "min_width": null,
            "border": null,
            "align_items": null,
            "bottom": null,
            "_model_module": "@jupyter-widgets/base",
            "top": null,
            "grid_column": null,
            "overflow_y": null,
            "overflow_x": null,
            "grid_auto_flow": null,
            "grid_area": null,
            "grid_template_columns": null,
            "flex": null,
            "_model_name": "LayoutModel",
            "justify_items": null,
            "grid_row": null,
            "max_height": null,
            "align_content": null,
            "visibility": null,
            "align_self": null,
            "height": null,
            "min_height": null,
            "padding": null,
            "grid_auto_rows": null,
            "grid_gap": null,
            "max_width": null,
            "order": null,
            "_view_module_version": "1.2.0",
            "grid_template_areas": null,
            "object_position": null,
            "object_fit": null,
            "grid_auto_columns": null,
            "margin": null,
            "display": null,
            "left": null
          }
        }
      }
    }
  },
  "cells": [
    {
      "cell_type": "code",
      "metadata": {
        "id": "NntpGS0HlrmH",
        "colab_type": "code",
        "outputId": "95791a65-2710-47d4-a95f-7ca4679eb98b",
        "colab": {
          "base_uri": "https://localhost:8080/",
          "height": 674
        }
      },
      "source": [
        "!pip install transformers"
      ],
      "execution_count": 0,
      "outputs": [
        {
          "output_type": "stream",
          "text": [
            "Collecting transformers\n",
            "\u001b[?25l  Downloading https://files.pythonhosted.org/packages/13/33/ffb67897a6985a7b7d8e5e7878c3628678f553634bd3836404fef06ef19b/transformers-2.5.1-py3-none-any.whl (499kB)\n",
            "\u001b[K     |████████████████████████████████| 501kB 2.8MB/s \n",
            "\u001b[?25hRequirement already satisfied: regex!=2019.12.17 in /usr/local/lib/python3.6/dist-packages (from transformers) (2019.12.20)\n",
            "Requirement already satisfied: filelock in /usr/local/lib/python3.6/dist-packages (from transformers) (3.0.12)\n",
            "Collecting sacremoses\n",
            "\u001b[?25l  Downloading https://files.pythonhosted.org/packages/a6/b4/7a41d630547a4afd58143597d5a49e07bfd4c42914d8335b2a5657efc14b/sacremoses-0.0.38.tar.gz (860kB)\n",
            "\u001b[K     |████████████████████████████████| 870kB 49.9MB/s \n",
            "\u001b[?25hRequirement already satisfied: requests in /usr/local/lib/python3.6/dist-packages (from transformers) (2.21.0)\n",
            "Collecting sentencepiece\n",
            "\u001b[?25l  Downloading https://files.pythonhosted.org/packages/74/f4/2d5214cbf13d06e7cb2c20d84115ca25b53ea76fa1f0ade0e3c9749de214/sentencepiece-0.1.85-cp36-cp36m-manylinux1_x86_64.whl (1.0MB)\n",
            "\u001b[K     |████████████████████████████████| 1.0MB 43.2MB/s \n",
            "\u001b[?25hRequirement already satisfied: tqdm>=4.27 in /usr/local/lib/python3.6/dist-packages (from transformers) (4.28.1)\n",
            "Requirement already satisfied: boto3 in /usr/local/lib/python3.6/dist-packages (from transformers) (1.11.15)\n",
            "Requirement already satisfied: numpy in /usr/local/lib/python3.6/dist-packages (from transformers) (1.17.5)\n",
            "Collecting tokenizers==0.5.2\n",
            "\u001b[?25l  Downloading https://files.pythonhosted.org/packages/d1/3f/73c881ea4723e43c1e9acf317cf407fab3a278daab3a69c98dcac511c04f/tokenizers-0.5.2-cp36-cp36m-manylinux1_x86_64.whl (3.7MB)\n",
            "\u001b[K     |████████████████████████████████| 3.7MB 39.2MB/s \n",
            "\u001b[?25hRequirement already satisfied: six in /usr/local/lib/python3.6/dist-packages (from sacremoses->transformers) (1.12.0)\n",
            "Requirement already satisfied: click in /usr/local/lib/python3.6/dist-packages (from sacremoses->transformers) (7.0)\n",
            "Requirement already satisfied: joblib in /usr/local/lib/python3.6/dist-packages (from sacremoses->transformers) (0.14.1)\n",
            "Requirement already satisfied: urllib3<1.25,>=1.21.1 in /usr/local/lib/python3.6/dist-packages (from requests->transformers) (1.24.3)\n",
            "Requirement already satisfied: idna<2.9,>=2.5 in /usr/local/lib/python3.6/dist-packages (from requests->transformers) (2.8)\n",
            "Requirement already satisfied: chardet<3.1.0,>=3.0.2 in /usr/local/lib/python3.6/dist-packages (from requests->transformers) (3.0.4)\n",
            "Requirement already satisfied: certifi>=2017.4.17 in /usr/local/lib/python3.6/dist-packages (from requests->transformers) (2019.11.28)\n",
            "Requirement already satisfied: jmespath<1.0.0,>=0.7.1 in /usr/local/lib/python3.6/dist-packages (from boto3->transformers) (0.9.4)\n",
            "Requirement already satisfied: botocore<1.15.0,>=1.14.15 in /usr/local/lib/python3.6/dist-packages (from boto3->transformers) (1.14.15)\n",
            "Requirement already satisfied: s3transfer<0.4.0,>=0.3.0 in /usr/local/lib/python3.6/dist-packages (from boto3->transformers) (0.3.3)\n",
            "Requirement already satisfied: docutils<0.16,>=0.10 in /usr/local/lib/python3.6/dist-packages (from botocore<1.15.0,>=1.14.15->boto3->transformers) (0.15.2)\n",
            "Requirement already satisfied: python-dateutil<3.0.0,>=2.1 in /usr/local/lib/python3.6/dist-packages (from botocore<1.15.0,>=1.14.15->boto3->transformers) (2.6.1)\n",
            "Building wheels for collected packages: sacremoses\n",
            "  Building wheel for sacremoses (setup.py) ... \u001b[?25l\u001b[?25hdone\n",
            "  Created wheel for sacremoses: filename=sacremoses-0.0.38-cp36-none-any.whl size=884628 sha256=e2b3bf3c5ea52d82b2ab77401f7f9317b8b6ac05b712440354c5e6ae4f58b8cc\n",
            "  Stored in directory: /root/.cache/pip/wheels/6d/ec/1a/21b8912e35e02741306f35f66c785f3afe94de754a0eaf1422\n",
            "Successfully built sacremoses\n",
            "Installing collected packages: sacremoses, sentencepiece, tokenizers, transformers\n",
            "Successfully installed sacremoses-0.0.38 sentencepiece-0.1.85 tokenizers-0.5.2 transformers-2.5.1\n"
          ],
          "name": "stdout"
        }
      ]
    },
    {
      "cell_type": "code",
      "metadata": {
        "id": "0Sih1mZmmQVi",
        "colab_type": "code",
        "outputId": "8cbb3c23-3f23-42e8-d778-5a6aae668df2",
        "colab": {
          "base_uri": "https://localhost:8080/",
          "height": 63
        }
      },
      "source": [
        "import torch\n",
        "from transformers import *"
      ],
      "execution_count": 0,
      "outputs": [
        {
          "output_type": "display_data",
          "data": {
            "text/html": [
              "<p style=\"color: red;\">\n",
              "The default version of TensorFlow in Colab will soon switch to TensorFlow 2.x.<br>\n",
              "We recommend you <a href=\"https://www.tensorflow.org/guide/migrate\" target=\"_blank\">upgrade</a> now \n",
              "or ensure your notebook will continue to use TensorFlow 1.x via the <code>%tensorflow_version 1.x</code> magic:\n",
              "<a href=\"https://colab.research.google.com/notebooks/tensorflow_version.ipynb\" target=\"_blank\">more info</a>.</p>\n"
            ],
            "text/plain": [
              "<IPython.core.display.HTML object>"
            ]
          },
          "metadata": {
            "tags": []
          }
        }
      ]
    },
    {
      "cell_type": "code",
      "metadata": {
        "id": "H6cDCrTelx9h",
        "colab_type": "code",
        "outputId": "4c82d481-abcb-441d-fe77-83570fb4dac7",
        "colab": {
          "base_uri": "https://localhost:8080/",
          "height": 66,
          "referenced_widgets": [
            "bf7e30e43ff24819b83a9d70b3ab46a7",
            "9c5049159fd44015b1811a5ed09179db",
            "7ee7a1f5c7184a8b84cf49a2d104297c",
            "b7a9b7cd7ddc451c9ea089af228e4e97",
            "f9b62815b661424d82231b63bab5e24f",
            "97d93fa8acfa477c8b9632bffaac2e81",
            "037a42f759904654a7e6d038036564d0",
            "ef94262d4eed4b09b2e81a741aecf9f2"
          ]
        }
      },
      "source": [
        "tokenizer = BertTokenizer.from_pretrained('bert-base-uncased')\n",
        "model = BertModel.from_pretrained('bert-base-uncased')"
      ],
      "execution_count": 0,
      "outputs": [
        {
          "output_type": "display_data",
          "data": {
            "application/vnd.jupyter.widget-view+json": {
              "model_id": "bf7e30e43ff24819b83a9d70b3ab46a7",
              "version_minor": 0,
              "version_major": 2
            },
            "text/plain": [
              "HBox(children=(IntProgress(value=0, description='Downloading', max=231508, style=ProgressStyle(description_wid…"
            ]
          },
          "metadata": {
            "tags": []
          }
        },
        {
          "output_type": "stream",
          "text": [
            "\n"
          ],
          "name": "stdout"
        }
      ]
    },
    {
      "cell_type": "markdown",
      "metadata": {
        "id": "IJ3-Eu5ymt8H",
        "colab_type": "text"
      },
      "source": [
        "## BERT has about 30000 tokens. I am trying to uderstand how these tokens are enough to collectively understand enough english to perform well on tasks such as GLUE, SuperGlue."
      ]
    },
    {
      "cell_type": "code",
      "metadata": {
        "id": "-jSrI4mlmYZO",
        "colab_type": "code",
        "colab": {}
      },
      "source": [
        "with open('Vocab.txt','w') as f:\n",
        "  for token in tokenizer.vocab.keys():\n",
        "    f.write(token + '\\n')"
      ],
      "execution_count": 0,
      "outputs": []
    },
    {
      "cell_type": "markdown",
      "metadata": {
        "id": "TuG4grxcnrHL",
        "colab_type": "text"
      },
      "source": [
        "###[PAD],[UNK],[CLS],[SEP],[MASK] the usual token used in tasks involving language.\n",
        "###There are 993 words which are called unused.\n",
        "###BertTokenizers have tokens for single characters as well."
      ]
    },
    {
      "cell_type": "code",
      "metadata": {
        "id": "q2sbe2CinWtz",
        "colab_type": "code",
        "colab": {}
      },
      "source": [
        "single_char=[]\n",
        "single_char_hash=[]\n",
        "for token in tokenizer.vocab.keys():\n",
        "  if (len(token)==1):\n",
        "    single_char.append(token)\n",
        "  if ( len(token)==3 and token[:2]=='##'):\n",
        "    single_char_hash.append(token[-1])\n",
        "\n",
        "    "
      ],
      "execution_count": 0,
      "outputs": []
    },
    {
      "cell_type": "code",
      "metadata": {
        "id": "wkaVdCpDot7O",
        "colab_type": "code",
        "outputId": "d2996146-96dd-4b39-876b-7772ef680a47",
        "colab": {
          "base_uri": "https://localhost:8080/",
          "height": 390
        }
      },
      "source": [
        "print(\"Total number of single character tokens precedded by a hash {}\".format(len(single_char_hash)))\n",
        "for i in range(0,len(single_char_hash),50):\n",
        "  limit=min(i+40,len(single_char)+1)\n",
        "  print(' '.join(single_char_hash[i:limit]) )"
      ],
      "execution_count": 0,
      "outputs": [
        {
          "output_type": "stream",
          "text": [
            "Total number of single character tokens precedded by a hash 997\n",
            "s a e i n o d r y t l m u h k c g p 2 z 1 b 3 f 4 6 7 x v 8 5 9 0 w j q ° ₂ а и\n",
            "е د ن ν ø р ₄ ₀ ر я ³ ι ł н ᵢ ₙ ß ة ς م − т ː ل ь к ♭ η ی в ا × ¹ ы ה ɛ л ! \" #\n",
            ". / : ; < = > ? @ [ \\ ] ^ _ ` { | } ~ ¡ ¢ £ ¤ ¥ ¦ § ¨ © ª « ¬ ® ± ´ µ ¶ · º » ¼\n",
            "ƒ ɐ ɑ ɒ ɔ ɕ ə ɡ ɣ ɨ ɪ ɫ ɬ ɯ ɲ ɴ ɹ ɾ ʀ ʁ ʂ ʃ ʉ ʊ ʋ ʌ ʎ ʐ ʑ ʒ ʔ ʰ ʲ ʳ ʷ ʸ ʻ ʼ ʾ ʿ\n",
            "θ κ λ μ ξ ο π ρ σ τ υ φ χ ψ ω б г д ж з м п с у ф х ц ч ш щ ъ э ю ђ є і ј љ њ ћ\n",
            "հ մ յ ն ո պ ս վ տ ր ւ ք ־ א ב ג ד ו ז ח ט י ך כ ל ם מ ן נ ס ע ף פ ץ צ ק ר ש ת ،\n",
            "ش ص ض ط ظ ع غ ـ ف ق ك و ى ٹ پ چ ک گ ں ھ ہ ے अ आ उ ए क ख ग च ज ट ड ण त थ द ध न प\n",
            "ह ा ि ी ो । ॥ ং অ আ ই উ এ ও ক খ গ চ ছ জ ট ড ণ ত থ দ ধ ন প ব ভ ম য র ল শ ষ স হ া\n",
            "ம ய ர ல ள வ ா ி ு ே ை ನ ರ ಾ ක ය ර ල ව ා ก ง ต ท น พ ม ย ร ล ว ส อ า เ ་ ། ག ང ད\n",
            "ბ გ დ ე ვ თ ი კ ლ მ ნ ო რ ს ტ უ ᄀ ᄂ ᄃ ᄅ ᄆ ᄇ ᄉ ᄊ ᄋ ᄌ ᄎ ᄏ ᄐ ᄑ ᄒ ᅡ ᅢ ᅥ ᅦ ᅧ ᅩ ᅪ ᅭ ᅮ\n",
            "ᆼ ᴬ ᴮ ᴰ ᴵ ᴺ ᵀ ᵃ ᵇ ᵈ ᵉ ᵍ ᵏ ᵐ ᵒ ᵖ ᵗ ᵘ ᵣ ᵤ ᵥ ᶜ ᶠ ‐ ‑ ‒ – — ― ‖ ‘ ’ ‚ “ ” „ † ‡ • …\n",
            "⁶ ⁷ ⁸ ⁹ ⁻ ⁿ ₅ ₆ ₇ ₈ ₉ ₊ ₍ ₎ ₐ ₑ ₒ ₓ ₕ ₖ ₗ ₘ ₚ ₛ ₜ ₤ ₩ € ₱ ₹ ℓ № ℝ ™ ⅓ ⅔ ← ↑ → ↓\n",
            "∗ ∘ √ ∞ ∧ ∨ ∩ ∪ ≈ ≡ ≤ ≥ ⊂ ⊆ ⊕ ⊗ ⋅ ─ │ ■ ▪ ● ★ ☆ ☉ ♠ ♣ ♥ ♦ ♯ ⟨ ⟩ ⱼ ⺩ ⺼ ⽥ 、 。 〈 〉\n",
            "え お か き く け こ さ し す せ そ た ち っ つ て と な に ぬ ね の は ひ ふ へ ほ ま み む め も や ゆ よ ら り る れ\n",
            "オ カ キ ク ケ コ サ シ ス セ タ チ ッ ツ テ ト ナ ニ ノ ハ ヒ フ ヘ ホ マ ミ ム メ モ ャ ュ ョ ラ リ ル レ ロ ワ ン ・\n",
            "之 也 事 二 五 井 京 人 亻 仁 介 代 仮 伊 会 佐 侍 保 信 健 元 光 八 公 内 出 分 前 劉 力 加 勝 北 区 十 千 南 博 原 口\n",
            "国 國 土 地 坂 城 堂 場 士 夏 外 大 天 太 夫 奈 女 子 学 宀 宇 安 宗 定 宣 宮 家 宿 寺 將 小 尚 山 岡 島 崎 川 州 巿 帝\n",
            "心 忄 志 忠 愛 成 我 戦 戸 手 扌 政 文 新 方 日 明 星 春 昭 智 曲 書 月 有 朝 木 本 李 村 東 松 林 森 楊 樹 橋 歌 止 正\n",
            "河 治 法 海 清 漢 瀬 火 版 犬 王 生 田 男 疒 発 白 的 皇 目 相 省 真 石 示 社 神 福 禾 秀 秋 空 立 章 竹 糹 美 義 耳 良\n",
            "訁 語 谷 貝 貴 車 軍 辶 道 郎 郡 部 都 里 野 金 鈴 镇 長 門 間 阝 阿 陳 陽 雄 青 面 風 食 香 馬 高 龍 龸 ﬁ ﬂ ！ （ ）\n"
          ],
          "name": "stdout"
        }
      ]
    },
    {
      "cell_type": "code",
      "metadata": {
        "id": "PfEX1RHmou0F",
        "colab_type": "code",
        "outputId": "579ed4fb-a90b-405f-eca1-fcddea469307",
        "colab": {
          "base_uri": "https://localhost:8080/",
          "height": 407
        }
      },
      "source": [
        "print(\"Total number of single character tokens {}\\n\".format(len(single_char)))\n",
        "for i in range(0,len(single_char),50):\n",
        "  limit=min(i+40,len(single_char)+1)\n",
        "  print(' '.join(single_char[i:limit]) )"
      ],
      "execution_count": 0,
      "outputs": [
        {
          "output_type": "stream",
          "text": [
            "Total number of single character tokens 997\n",
            "\n",
            "! \" # $ % & ' ( ) * + , - . / 0 1 2 3 4 5 6 7 8 9 : ; < = > ? @ [ \\ ] ^ _ ` a b\n",
            "m n o p q r s t u v w x y z { | } ~ ¡ ¢ £ ¤ ¥ ¦ § ¨ © ª « ¬ ® ° ± ² ³ ´ µ ¶ · ¹\n",
            "÷ ø þ đ ħ ı ł ŋ œ ƒ ɐ ɑ ɒ ɔ ɕ ə ɛ ɡ ɣ ɨ ɪ ɫ ɬ ɯ ɲ ɴ ɹ ɾ ʀ ʁ ʂ ʃ ʉ ʊ ʋ ʌ ʎ ʐ ʑ ʒ\n",
            "ˈ ː ˡ ˢ ˣ ˤ α β γ δ ε ζ η θ ι κ λ μ ν ξ ο π ρ ς σ τ υ φ χ ψ ω а б в г д е ж з и\n",
            "ф х ц ч ш щ ъ ы ь э ю я ђ є і ј љ њ ћ ӏ ա բ գ դ ե թ ի լ կ հ մ յ ն ո պ ս վ տ ր ւ\n",
            "ט י ך כ ל ם מ ן נ ס ע ף פ ץ צ ק ר ש ת ، ء ا ب ة ت ث ج ح خ د ذ ر ز س ش ص ض ط ظ ع\n",
            "ى ي ٹ پ چ ک گ ں ھ ہ ی ے अ आ उ ए क ख ग च ज ट ड ण त थ द ध न प ब भ म य र ल व श ष स\n",
            "ই উ এ ও ক খ গ চ ছ জ ট ড ণ ত থ দ ধ ন প ব ভ ম য র ল শ ষ স হ া ি ী ে க ச ட த ந ன ப\n",
            "ை ನ ರ ಾ ක ය ර ල ව ා ก ง ต ท น พ ม ย ร ล ว ส อ า เ ་ ། ག ང ད ན པ བ མ འ ར ལ ས မ ა\n",
            "ნ ო რ ს ტ უ ᄀ ᄂ ᄃ ᄅ ᄆ ᄇ ᄉ ᄊ ᄋ ᄌ ᄎ ᄏ ᄐ ᄑ ᄒ ᅡ ᅢ ᅥ ᅦ ᅧ ᅩ ᅪ ᅭ ᅮ ᅯ ᅲ ᅳ ᅴ ᅵ ᆨ ᆫ ᆯ ᆷ ᆸ\n",
            "ᵉ ᵍ ᵏ ᵐ ᵒ ᵖ ᵗ ᵘ ᵢ ᵣ ᵤ ᵥ ᶜ ᶠ ‐ ‑ ‒ – — ― ‖ ‘ ’ ‚ “ ” „ † ‡ • … ‰ ′ ″ › ‿ ⁄ ⁰ ⁱ ⁴\n",
            "₂ ₃ ₄ ₅ ₆ ₇ ₈ ₉ ₊ ₍ ₎ ₐ ₑ ₒ ₓ ₕ ₖ ₗ ₘ ₙ ₚ ₛ ₜ ₤ ₩ € ₱ ₹ ℓ № ℝ ™ ⅓ ⅔ ← ↑ → ↓ ↔ ↦\n",
            "∘ √ ∞ ∧ ∨ ∩ ∪ ≈ ≡ ≤ ≥ ⊂ ⊆ ⊕ ⊗ ⋅ ─ │ ■ ▪ ● ★ ☆ ☉ ♠ ♣ ♥ ♦ ♭ ♯ ⟨ ⟩ ⱼ ⺩ ⺼ ⽥ 、 。 〈 〉\n",
            "え お か き く け こ さ し す せ そ た ち っ つ て と な に ぬ ね の は ひ ふ へ ほ ま み む め も や ゆ よ ら り る れ\n",
            "オ カ キ ク ケ コ サ シ ス セ タ チ ッ ツ テ ト ナ ニ ノ ハ ヒ フ ヘ ホ マ ミ ム メ モ ャ ュ ョ ラ リ ル レ ロ ワ ン ・\n",
            "之 也 事 二 五 井 京 人 亻 仁 介 代 仮 伊 会 佐 侍 保 信 健 元 光 八 公 内 出 分 前 劉 力 加 勝 北 区 十 千 南 博 原 口\n",
            "国 國 土 地 坂 城 堂 場 士 夏 外 大 天 太 夫 奈 女 子 学 宀 宇 安 宗 定 宣 宮 家 宿 寺 將 小 尚 山 岡 島 崎 川 州 巿 帝\n",
            "心 忄 志 忠 愛 成 我 戦 戸 手 扌 政 文 新 方 日 明 星 春 昭 智 曲 書 月 有 朝 木 本 李 村 東 松 林 森 楊 樹 橋 歌 止 正\n",
            "河 治 法 海 清 漢 瀬 火 版 犬 王 生 田 男 疒 発 白 的 皇 目 相 省 真 石 示 社 神 福 禾 秀 秋 空 立 章 竹 糹 美 義 耳 良\n",
            "訁 語 谷 貝 貴 車 軍 辶 道 郎 郡 部 都 里 野 金 鈴 镇 長 門 間 阝 阿 陳 陽 雄 青 面 風 食 香 馬 高 龍 龸 ﬁ ﬂ ！ （ ）\n"
          ],
          "name": "stdout"
        }
      ]
    },
    {
      "cell_type": "code",
      "metadata": {
        "id": "OQqsOOjtrazU",
        "colab_type": "code",
        "outputId": "c2c72402-ac74-4e78-b456-408a74a8a446",
        "colab": {
          "base_uri": "https://localhost:8080/",
          "height": 34
        }
      },
      "source": [
        "set(single_char)==set(single_char_hash)"
      ],
      "execution_count": 0,
      "outputs": [
        {
          "output_type": "execute_result",
          "data": {
            "text/plain": [
              "True"
            ]
          },
          "metadata": {
            "tags": []
          },
          "execution_count": 39
        }
      ]
    },
    {
      "cell_type": "markdown",
      "metadata": {
        "id": "aPRRXvD6sh4Q",
        "colab_type": "text"
      },
      "source": [
        "# Statistics on the length of tokens\n"
      ]
    },
    {
      "cell_type": "code",
      "metadata": {
        "id": "zYxbBE1xsLA5",
        "colab_type": "code",
        "colab": {}
      },
      "source": [
        "length=[]\n",
        "for token in tokenizer.vocab.keys():\n",
        "  length.append(len(token))"
      ],
      "execution_count": 0,
      "outputs": []
    },
    {
      "cell_type": "code",
      "metadata": {
        "id": "A0y1rTmQsv4g",
        "colab_type": "code",
        "colab": {}
      },
      "source": [
        "import matplotlib.pyplot as plt\n",
        "import numpy as np\n",
        "import seaborn as sns"
      ],
      "execution_count": 0,
      "outputs": []
    },
    {
      "cell_type": "code",
      "metadata": {
        "id": "vgvntNJss06k",
        "colab_type": "code",
        "outputId": "0f6bb315-6e52-468c-8076-50ec2ee87a26",
        "colab": {
          "base_uri": "https://localhost:8080/",
          "height": 623
        }
      },
      "source": [
        "plt.figure(figsize=(15,10))\n",
        "sns.countplot(length)\n",
        "plt.xlabel(\"Character length\")"
      ],
      "execution_count": 0,
      "outputs": [
        {
          "output_type": "execute_result",
          "data": {
            "text/plain": [
              "Text(0.5, 0, 'Character length')"
            ]
          },
          "metadata": {
            "tags": []
          },
          "execution_count": 45
        },
        {
          "output_type": "display_data",
          "data": {
            "image/png": "[encoded data removed]",
            "text/plain": [
              "<Figure size 1080x720 with 1 Axes>"
            ]
          },
          "metadata": {
            "tags": []
          }
        }
      ]
    },
    {
      "cell_type": "markdown",
      "metadata": {
        "id": "0piEgih6tkXp",
        "colab_type": "text"
      },
      "source": [
        "# Checking the number of words that have a length greater than 3 and begin with hashes"
      ]
    },
    {
      "cell_type": "code",
      "metadata": {
        "id": "-daW8YAOs4e7",
        "colab_type": "code",
        "colab": {}
      },
      "source": [
        "hash_words=[]\n",
        "hash_words_length=[]\n",
        "with open('Hash_words.txt','w') as f:\n",
        "  for token in tokenizer.vocab.keys():\n",
        "    if ( len(token)>3 and token[:2]=='##'):\n",
        "      hash_words.append(token[2:])\n",
        "      f.write(token[2:] + '\\n')\n",
        "      hash_words_length.append(len(token[2:]))\n"
      ],
      "execution_count": 0,
      "outputs": []
    },
    {
      "cell_type": "markdown",
      "metadata": {
        "id": "BZquqcxsutB_",
        "colab_type": "text"
      },
      "source": [
        "# List of Hash words as seem from the text include commonly occuring stringss in the midle and end of a longer word"
      ]
    },
    {
      "cell_type": "code",
      "metadata": {
        "id": "KjxscJj9uLvT",
        "colab_type": "code",
        "outputId": "6777c648-72cc-4547-d7cb-95b9d51f7eb0",
        "colab": {
          "base_uri": "https://localhost:8080/",
          "height": 34
        }
      },
      "source": [
        "print(\"total number of words that begin with hash {}\".format(len(hash_words)))"
      ],
      "execution_count": 0,
      "outputs": [
        {
          "output_type": "stream",
          "text": [
            "total number of words that begin with hash 4831\n"
          ],
          "name": "stdout"
        }
      ]
    },
    {
      "cell_type": "code",
      "metadata": {
        "id": "scUa4fF5u61m",
        "colab_type": "code",
        "outputId": "2530a86a-c8f0-4d21-a6f9-62fcf8ac18bf",
        "colab": {
          "base_uri": "https://localhost:8080/",
          "height": 638
        }
      },
      "source": [
        "plt.figure(figsize=(15,10))\n",
        "sns.countplot(hash_words_length)\n",
        "plt.title(\"Hashed word count vs length\")\n",
        "plt.xlabel(\"word length\")"
      ],
      "execution_count": 0,
      "outputs": [
        {
          "output_type": "execute_result",
          "data": {
            "text/plain": [
              "Text(0.5, 0, 'word length')"
            ]
          },
          "metadata": {
            "tags": []
          },
          "execution_count": 55
        },
        {
          "output_type": "display_data",
          "data": {
            "image/png": "[encoded data removed]",
            "text/plain": [
              "<Figure size 1080x720 with 1 Axes>"
            ]
          },
          "metadata": {
            "tags": []
          }
        }
      ]
    },
    {
      "cell_type": "markdown",
      "metadata": {
        "id": "iYNQwjM4vxdb",
        "colab_type": "text"
      },
      "source": [
        "#Trying to check the number of sur-names in the vocabulary"
      ]
    },
    {
      "cell_type": "code",
      "metadata": {
        "id": "dippT7k1wHMO",
        "colab_type": "code",
        "colab": {}
      },
      "source": [
        "import pandas as pd\n",
        "df=pd.read_csv('https://raw.githubusercontent.com/jasoriya/CS6120-PS2-support/master/data/surnames/surnames_with_splits.csv')"
      ],
      "execution_count": 0,
      "outputs": []
    },
    {
      "cell_type": "code",
      "metadata": {
        "id": "xrY-52SmwgwJ",
        "colab_type": "code",
        "outputId": "46ee939c-5bbf-453f-a87e-4dd2a43497a2",
        "colab": {
          "base_uri": "https://localhost:8080/",
          "height": 34
        }
      },
      "source": [
        "print(\"the total number os surnames in this file are {}\".format(len(set(df.surname.values))))"
      ],
      "execution_count": 0,
      "outputs": [
        {
          "output_type": "stream",
          "text": [
            "the total number os surnames in this file are 9041\n"
          ],
          "name": "stdout"
        }
      ]
    },
    {
      "cell_type": "code",
      "metadata": {
        "id": "sdWTUmc1wrxc",
        "colab_type": "code",
        "colab": {}
      },
      "source": [
        "count=0\n",
        "for i in set(df.surname.values):\n",
        "  if i in set(tokenizer.vocab.keys()):\n",
        "    count+=1"
      ],
      "execution_count": 0,
      "outputs": []
    },
    {
      "cell_type": "code",
      "metadata": {
        "id": "lSO-g1TpxAvI",
        "colab_type": "code",
        "outputId": "bb55e52f-c394-477e-b741-a4f88e1211bd",
        "colab": {
          "base_uri": "https://localhost:8080/",
          "height": 34
        }
      },
      "source": [
        "print(\"The nubmer of surnames present in the vocabulary are {}\".format(count))"
      ],
      "execution_count": 0,
      "outputs": [
        {
          "output_type": "stream",
          "text": [
            "The nubmer of surnames present in the vocabulary are 15\n"
          ],
          "name": "stdout"
        }
      ]
    },
    {
      "cell_type": "markdown",
      "metadata": {
        "id": "qaLEMeJ2x4CB",
        "colab_type": "text"
      },
      "source": [
        "# Finding the tokens that are digits?\n"
      ]
    },
    {
      "cell_type": "code",
      "metadata": {
        "id": "MaBMRU1Ex3Vp",
        "colab_type": "code",
        "colab": {}
      },
      "source": [
        "digit=[]\n",
        "for token in tokenizer.vocab.keys():\n",
        "  if token.isdigit():\n",
        "    digit.append(token)"
      ],
      "execution_count": 0,
      "outputs": []
    },
    {
      "cell_type": "code",
      "metadata": {
        "id": "5jz807wlxzfu",
        "colab_type": "code",
        "outputId": "021bc0c4-03a1-4773-c0d1-c52bf9b593af",
        "colab": {
          "base_uri": "https://localhost:8080/",
          "height": 34
        }
      },
      "source": [
        "print(\"The nubmer of digits present in the vocabulary are {}\".format(len(digit)))"
      ],
      "execution_count": 0,
      "outputs": [
        {
          "output_type": "stream",
          "text": [
            "The nubmer of digits present in the vocabulary are 881\n"
          ],
          "name": "stdout"
        }
      ]
    },
    {
      "cell_type": "markdown",
      "metadata": {
        "id": "dczn2K3_3jG_",
        "colab_type": "text"
      },
      "source": [
        "#Example of how BERT encodes a sentence"
      ]
    },
    {
      "cell_type": "code",
      "metadata": {
        "id": "QA_B5R510Jhz",
        "colab_type": "code",
        "colab": {}
      },
      "source": [
        "input_ids = torch.tensor(tokenizer.encode(\"Damodar is from a rural village named Ghunttur. He sells jaberwakki oil everyday at the market.\", add_special_tokens=True)).unsqueeze(0)"
      ],
      "execution_count": 0,
      "outputs": []
    },
    {
      "cell_type": "code",
      "metadata": {
        "id": "W99qkWQ_zS64",
        "colab_type": "code",
        "outputId": "6be67579-e912-4113-edce-0f306a7d07a7",
        "colab": {
          "base_uri": "https://localhost:8080/",
          "height": 514
        }
      },
      "source": [
        "for inp in input_ids[0]:\n",
        "  print((int(inp),tokenizer.ids_to_tokens[int(inp)]))\n",
        "  "
      ],
      "execution_count": 0,
      "outputs": [
        {
          "output_type": "stream",
          "text": [
            "(101, '[CLS]')\n",
            "(5477, 'dam')\n",
            "(13390, '##oda')\n",
            "(2099, '##r')\n",
            "(2003, 'is')\n",
            "(2013, 'from')\n",
            "(1037, 'a')\n",
            "(3541, 'rural')\n",
            "(2352, 'village')\n",
            "(2315, 'named')\n",
            "(1043, 'g')\n",
            "(17157, '##hun')\n",
            "(4779, '##tt')\n",
            "(3126, '##ur')\n",
            "(1012, '.')\n",
            "(2002, 'he')\n",
            "(15187, 'sells')\n",
            "(14855, 'ja')\n",
            "(5677, '##ber')\n",
            "(4213, '##wa')\n",
            "(24103, '##kki')\n",
            "(3514, 'oil')\n",
            "(10126, 'everyday')\n",
            "(2012, 'at')\n",
            "(1996, 'the')\n",
            "(3006, 'market')\n",
            "(1012, '.')\n",
            "(102, '[SEP]')\n"
          ],
          "name": "stdout"
        }
      ]
    },
    {
      "cell_type": "markdown",
      "metadata": {
        "id": "boDYphhEV6uc",
        "colab_type": "text"
      },
      "source": [
        "[CLS]- Marks the beginning of the sentence and also the aggregate representations used for classification tasks.\n",
        "\n",
        "[SEP]- Marks the end of an input\n",
        "\n",
        " double Hashtags at the beginning of certain tokens imply that this token is a part of a larger token and isn't present at the beginning of the larger token."
      ]
    },
    {
      "cell_type": "markdown",
      "metadata": {
        "id": "1sYkEzNU6W0t",
        "colab_type": "text"
      },
      "source": [
        "# exploring BERT tokenizers"
      ]
    },
    {
      "cell_type": "code",
      "metadata": {
        "id": "rckAiClSE4R5",
        "colab_type": "code",
        "outputId": "72521e49-0a85-4383-a658-fad0e4371b74",
        "colab": {
          "base_uri": "https://localhost:8080/",
          "height": 1000
        }
      },
      "source": [
        "tokenizer.encode_plus(\"Damodar is from a rural village named Ghunttur.\",\"He sells jaberwakki oil everyday at the market.\", add_special_tokens=True)"
      ],
      "execution_count": 0,
      "outputs": [
        {
          "output_type": "execute_result",
          "data": {
            "text/plain": [
              "{'attention_mask': [1,\n",
              "  1,\n",
              "  1,\n",
              "  1,\n",
              "  1,\n",
              "  1,\n",
              "  1,\n",
              "  1,\n",
              "  1,\n",
              "  1,\n",
              "  1,\n",
              "  1,\n",
              "  1,\n",
              "  1,\n",
              "  1,\n",
              "  1,\n",
              "  1,\n",
              "  1,\n",
              "  1,\n",
              "  1,\n",
              "  1,\n",
              "  1,\n",
              "  1,\n",
              "  1,\n",
              "  1,\n",
              "  1,\n",
              "  1,\n",
              "  1,\n",
              "  1,\n",
              "  1,\n",
              "  1,\n",
              "  1],\n",
              " 'input_ids': [101,\n",
              "  5477,\n",
              "  13390,\n",
              "  2099,\n",
              "  2003,\n",
              "  2013,\n",
              "  1037,\n",
              "  3541,\n",
              "  2352,\n",
              "  2315,\n",
              "  1043,\n",
              "  17157,\n",
              "  4779,\n",
              "  3126,\n",
              "  1012,\n",
              "  12849,\n",
              "  3683,\n",
              "  1012,\n",
              "  102,\n",
              "  2002,\n",
              "  15187,\n",
              "  14855,\n",
              "  5677,\n",
              "  4213,\n",
              "  24103,\n",
              "  3514,\n",
              "  10126,\n",
              "  2012,\n",
              "  1996,\n",
              "  3006,\n",
              "  1012,\n",
              "  102],\n",
              " 'token_type_ids': [0,\n",
              "  0,\n",
              "  0,\n",
              "  0,\n",
              "  0,\n",
              "  0,\n",
              "  0,\n",
              "  0,\n",
              "  0,\n",
              "  0,\n",
              "  0,\n",
              "  0,\n",
              "  0,\n",
              "  0,\n",
              "  0,\n",
              "  0,\n",
              "  0,\n",
              "  0,\n",
              "  0,\n",
              "  1,\n",
              "  1,\n",
              "  1,\n",
              "  1,\n",
              "  1,\n",
              "  1,\n",
              "  1,\n",
              "  1,\n",
              "  1,\n",
              "  1,\n",
              "  1,\n",
              "  1,\n",
              "  1]}"
            ]
          },
          "metadata": {
            "tags": []
          },
          "execution_count": 160
        }
      ]
    },
    {
      "cell_type": "markdown",
      "metadata": {
        "id": "ASz3J-VnHh7e",
        "colab_type": "text"
      },
      "source": [
        "# \"input_ids\" refer to the index of the toke in the vocabulary after worpiece tokenization.\n",
        "# \"attention_maks refers to the tokens the model should be attending to during computation its a way of avoind padded tokens\"\n",
        "# \"token_type_ids\" is to convey to the computer a distinction between 2 sentences."
      ]
    },
    {
      "cell_type": "code",
      "metadata": {
        "id": "T6vwUbSkF7tg",
        "colab_type": "code",
        "colab": {}
      },
      "source": [
        "seq_1=\"The world is small.\"\n",
        "seq_2=\"Today we live in a world so well connected my by technology that one cannot fathom how virtually close we are while still being physically distant\""
      ],
      "execution_count": 0,
      "outputs": []
    },
    {
      "cell_type": "code",
      "metadata": {
        "id": "tHTEzOdFIVO-",
        "colab_type": "code",
        "outputId": "895253fa-d4e3-49d1-8116-61c134ddc48d",
        "colab": {
          "base_uri": "https://localhost:8080/",
          "height": 34
        }
      },
      "source": [
        "print(\"Length of seq_1 is {} and length of seq_2 is {}\".format(len(seq_1.split()),len(seq_2.split())))"
      ],
      "execution_count": 0,
      "outputs": [
        {
          "output_type": "stream",
          "text": [
            "Length of seq_1 is 4 and length of seq_2 is 26\n"
          ],
          "name": "stdout"
        }
      ]
    },
    {
      "cell_type": "code",
      "metadata": {
        "id": "LxnjyxnaIjOc",
        "colab_type": "code",
        "outputId": "96572431-61f9-41d4-d5e3-13dabc96a7ee",
        "colab": {
          "base_uri": "https://localhost:8080/",
          "height": 52
        }
      },
      "source": [
        "encode_1=tokenizer.encode(seq_1)\n",
        "encode_2=tokenizer.encode(seq_2)\n",
        "print(encode_1)\n",
        "print(encode_2)"
      ],
      "execution_count": 0,
      "outputs": [
        {
          "output_type": "stream",
          "text": [
            "[101, 1996, 2088, 2003, 2235, 1012, 102]\n",
            "[101, 2651, 2057, 2444, 1999, 1037, 2088, 2061, 2092, 4198, 2026, 2011, 2974, 2008, 2028, 3685, 6638, 23393, 2129, 8990, 2485, 2057, 2024, 2096, 2145, 2108, 8186, 6802, 102]\n"
          ],
          "name": "stdout"
        }
      ]
    },
    {
      "cell_type": "code",
      "metadata": {
        "id": "gJnwNk32JEry",
        "colab_type": "code",
        "outputId": "742a4ad3-db96-4958-8496-ff748d4d3492",
        "colab": {
          "base_uri": "https://localhost:8080/",
          "height": 34
        }
      },
      "source": [
        "encode_1_pad=tokenizer.encode(seq_1,max_length=len(seq_2.split()),pad_to_max_length=True)\n",
        "print(encode_1_pad) # padded input"
      ],
      "execution_count": 0,
      "outputs": [
        {
          "output_type": "stream",
          "text": [
            "[101, 1996, 2088, 2003, 2235, 1012, 102, 0, 0, 0, 0, 0, 0, 0, 0, 0, 0, 0, 0, 0, 0, 0, 0, 0, 0, 0]\n"
          ],
          "name": "stdout"
        }
      ]
    },
    {
      "cell_type": "markdown",
      "metadata": {
        "id": "gNznEsuBJacI",
        "colab_type": "text"
      },
      "source": [
        "Value of 0 in the input_tokens indicates padding"
      ]
    },
    {
      "cell_type": "code",
      "metadata": {
        "id": "eR7faIp_JVHA",
        "colab_type": "code",
        "outputId": "60181ede-cf30-465e-97a7-f032f2988066",
        "colab": {
          "base_uri": "https://localhost:8080/",
          "height": 1000
        }
      },
      "source": [
        "tokenizer.encode_plus(seq_1,seq_2)"
      ],
      "execution_count": 0,
      "outputs": [
        {
          "output_type": "execute_result",
          "data": {
            "text/plain": [
              "{'attention_mask': [1,\n",
              "  1,\n",
              "  1,\n",
              "  1,\n",
              "  1,\n",
              "  1,\n",
              "  1,\n",
              "  1,\n",
              "  1,\n",
              "  1,\n",
              "  1,\n",
              "  1,\n",
              "  1,\n",
              "  1,\n",
              "  1,\n",
              "  1,\n",
              "  1,\n",
              "  1,\n",
              "  1,\n",
              "  1,\n",
              "  1,\n",
              "  1,\n",
              "  1,\n",
              "  1,\n",
              "  1,\n",
              "  1,\n",
              "  1,\n",
              "  1,\n",
              "  1,\n",
              "  1,\n",
              "  1,\n",
              "  1,\n",
              "  1,\n",
              "  1,\n",
              "  1],\n",
              " 'input_ids': [101,\n",
              "  1996,\n",
              "  2088,\n",
              "  2003,\n",
              "  2235,\n",
              "  1012,\n",
              "  102,\n",
              "  2651,\n",
              "  2057,\n",
              "  2444,\n",
              "  1999,\n",
              "  1037,\n",
              "  2088,\n",
              "  2061,\n",
              "  2092,\n",
              "  4198,\n",
              "  2026,\n",
              "  2011,\n",
              "  2974,\n",
              "  2008,\n",
              "  2028,\n",
              "  3685,\n",
              "  6638,\n",
              "  23393,\n",
              "  2129,\n",
              "  8990,\n",
              "  2485,\n",
              "  2057,\n",
              "  2024,\n",
              "  2096,\n",
              "  2145,\n",
              "  2108,\n",
              "  8186,\n",
              "  6802,\n",
              "  102],\n",
              " 'token_type_ids': [0,\n",
              "  0,\n",
              "  0,\n",
              "  0,\n",
              "  0,\n",
              "  0,\n",
              "  0,\n",
              "  1,\n",
              "  1,\n",
              "  1,\n",
              "  1,\n",
              "  1,\n",
              "  1,\n",
              "  1,\n",
              "  1,\n",
              "  1,\n",
              "  1,\n",
              "  1,\n",
              "  1,\n",
              "  1,\n",
              "  1,\n",
              "  1,\n",
              "  1,\n",
              "  1,\n",
              "  1,\n",
              "  1,\n",
              "  1,\n",
              "  1,\n",
              "  1,\n",
              "  1,\n",
              "  1,\n",
              "  1,\n",
              "  1,\n",
              "  1,\n",
              "  1]}"
            ]
          },
          "metadata": {
            "tags": []
          },
          "execution_count": 158
        }
      ]
    },
    {
      "cell_type": "markdown",
      "metadata": {
        "id": "NvEliduwJ_lQ",
        "colab_type": "text"
      },
      "source": [
        "## notice the change in token ids too show a distinction between the two sentences"
      ]
    },
    {
      "cell_type": "markdown",
      "metadata": {
        "id": "hnAPdYKlKJXh",
        "colab_type": "text"
      },
      "source": [
        "# The distinction between 2 sentences can be introduced if we use tokenizer.encode_plus specifying the two sentence seperately"
      ]
    },
    {
      "cell_type": "code",
      "metadata": {
        "id": "7UuSpPs7J3iU",
        "colab_type": "code",
        "colab": {}
      },
      "source": [
        "tt=tokenizer.encode_plus(\"Damodar is from a rural village named Ghunttur.Damodar was named after a valley.\",\"He sells jaberwakki oil everyday at the market.\", add_special_tokens=True)"
      ],
      "execution_count": 0,
      "outputs": []
    },
    {
      "cell_type": "code",
      "metadata": {
        "id": "x0yE8VcSL861",
        "colab_type": "code",
        "outputId": "b4d0a72d-51ae-4c85-9b0e-b09b272c759b",
        "colab": {
          "base_uri": "https://localhost:8080/",
          "height": 692
        }
      },
      "source": [
        ""
      ],
      "execution_count": 0,
      "outputs": [
        {
          "output_type": "execute_result",
          "data": {
            "text/plain": [
              "[101,\n",
              " 5477,\n",
              " 13390,\n",
              " 2099,\n",
              " 2003,\n",
              " 2013,\n",
              " 1037,\n",
              " 3541,\n",
              " 2352,\n",
              " 2315,\n",
              " 1043,\n",
              " 17157,\n",
              " 4779,\n",
              " 3126,\n",
              " 1012,\n",
              " 5477,\n",
              " 13390,\n",
              " 2099,\n",
              " 2001,\n",
              " 2315,\n",
              " 2044,\n",
              " 1037,\n",
              " 3028,\n",
              " 1012,\n",
              " 102,\n",
              " 2002,\n",
              " 15187,\n",
              " 14855,\n",
              " 5677,\n",
              " 4213,\n",
              " 24103,\n",
              " 3514,\n",
              " 10126,\n",
              " 2012,\n",
              " 1996,\n",
              " 3006,\n",
              " 1012,\n",
              " 102]"
            ]
          },
          "metadata": {
            "tags": []
          },
          "execution_count": 165
        }
      ]
    },
    {
      "cell_type": "code",
      "metadata": {
        "id": "hi3CeRPDJ2Oz",
        "colab_type": "code",
        "outputId": "d6f6ce78-348c-4d8d-b558-74513be498b8",
        "colab": {
          "base_uri": "https://localhost:8080/",
          "height": 692
        }
      },
      "source": [
        "for inp in tt['input_ids']:\n",
        "  print(\"id:{}\\t\\ttoken:{}\".format(inp,tokenizer.ids_to_tokens[int(inp)] ))"
      ],
      "execution_count": 0,
      "outputs": [
        {
          "output_type": "stream",
          "text": [
            "id:101\t\ttoken:[CLS]\n",
            "id:5477\t\ttoken:dam\n",
            "id:13390\t\ttoken:##oda\n",
            "id:2099\t\ttoken:##r\n",
            "id:2003\t\ttoken:is\n",
            "id:2013\t\ttoken:from\n",
            "id:1037\t\ttoken:a\n",
            "id:3541\t\ttoken:rural\n",
            "id:2352\t\ttoken:village\n",
            "id:2315\t\ttoken:named\n",
            "id:1043\t\ttoken:g\n",
            "id:17157\t\ttoken:##hun\n",
            "id:4779\t\ttoken:##tt\n",
            "id:3126\t\ttoken:##ur\n",
            "id:1012\t\ttoken:.\n",
            "id:5477\t\ttoken:dam\n",
            "id:13390\t\ttoken:##oda\n",
            "id:2099\t\ttoken:##r\n",
            "id:2001\t\ttoken:was\n",
            "id:2315\t\ttoken:named\n",
            "id:2044\t\ttoken:after\n",
            "id:1037\t\ttoken:a\n",
            "id:3028\t\ttoken:valley\n",
            "id:1012\t\ttoken:.\n",
            "id:102\t\ttoken:[SEP]\n",
            "id:2002\t\ttoken:he\n",
            "id:15187\t\ttoken:sells\n",
            "id:14855\t\ttoken:ja\n",
            "id:5677\t\ttoken:##ber\n",
            "id:4213\t\ttoken:##wa\n",
            "id:24103\t\ttoken:##kki\n",
            "id:3514\t\ttoken:oil\n",
            "id:10126\t\ttoken:everyday\n",
            "id:2012\t\ttoken:at\n",
            "id:1996\t\ttoken:the\n",
            "id:3006\t\ttoken:market\n",
            "id:1012\t\ttoken:.\n",
            "id:102\t\ttoken:[SEP]\n"
          ],
          "name": "stdout"
        }
      ]
    },
    {
      "cell_type": "code",
      "metadata": {
        "id": "EMqFKaiaMLzv",
        "colab_type": "code",
        "outputId": "9653a8bc-f118-4dbb-e4d0-47260f12942d",
        "colab": {
          "base_uri": "https://localhost:8080/",
          "height": 34
        }
      },
      "source": [
        "tokenizer.tokenize(\"Jabberwakki\")"
      ],
      "execution_count": 0,
      "outputs": [
        {
          "output_type": "execute_result",
          "data": {
            "text/plain": [
              "['ja', '##bber', '##wa', '##kki']"
            ]
          },
          "metadata": {
            "tags": []
          },
          "execution_count": 171
        }
      ]
    },
    {
      "cell_type": "markdown",
      "metadata": {
        "id": "bD6cJMn5SLR5",
        "colab_type": "text"
      },
      "source": [
        "# **NOTE**: any word can be tokenized by the BERTtokenizer as it dwelves in words and characters. If a word isn't present in the vocabulary as a whole, if that fails it looks in to subwords and further into individual characters. Thus as long as characters of a word are present in the vocabulary its unlikely that we may have unknown words."
      ]
    },
    {
      "cell_type": "code",
      "metadata": {
        "id": "5t6v1rm8SKYs",
        "colab_type": "code",
        "outputId": "b4661797-5fae-4c10-b080-ff72891db781",
        "colab": {
          "base_uri": "https://localhost:8080/",
          "height": 265
        }
      },
      "source": [
        "tokenizer.tokenize(\"jafljhdufuafkaj sdkjhskiy\")"
      ],
      "execution_count": 0,
      "outputs": [
        {
          "output_type": "execute_result",
          "data": {
            "text/plain": [
              "['ja',\n",
              " '##fl',\n",
              " '##j',\n",
              " '##hd',\n",
              " '##uf',\n",
              " '##ua',\n",
              " '##fk',\n",
              " '##aj',\n",
              " 'sd',\n",
              " '##k',\n",
              " '##j',\n",
              " '##hs',\n",
              " '##ki',\n",
              " '##y']"
            ]
          },
          "metadata": {
            "tags": []
          },
          "execution_count": 172
        }
      ]
    },
    {
      "cell_type": "markdown",
      "metadata": {
        "id": "NeBBHY4qS-uh",
        "colab_type": "text"
      },
      "source": [
        "## As mentioned above even the most unlikely word can be tokenized thus the concept of OOV does not exist.\n"
      ]
    },
    {
      "cell_type": "markdown",
      "metadata": {
        "id": "V5NBhlIUTL1C",
        "colab_type": "text"
      },
      "source": [
        "The whole concept of WordPiece embedding comes from the following paper:\n",
        "https://static.googleusercontent.com/media/research.google.com/en//pubs/archive/37842.pdf\n",
        "\n",
        "The basic algorithm is as follows:\n",
        "1. Initial vocabulary consists of the characters from the given training data.\n",
        "2. Build a language model for your training data using the tokens in the initial vocabulary.\n",
        "3. Generate a new token by combining any the existing tokens from the vocabulary. Select the combined tokens the increase the likelihood of the language model when added to the model.\n",
        "4. Go back to 4 until we reach the required target set of vocabulary words.\n"
      ]
    }
  ]
}